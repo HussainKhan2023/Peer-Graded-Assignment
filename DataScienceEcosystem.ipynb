{
 "cells": [
  {
   "cell_type": "markdown",
   "id": "7bbcfc1a-7c06-437b-931e-0007a63fc48a",
   "metadata": {},
   "source": [
    "# Data Science Tools and Ecosystem"
   ]
  },
  {
   "cell_type": "markdown",
   "id": "fbad82e6-1e2e-4d81-838e-247efe48759f",
   "metadata": {},
   "source": [
    "In this notebook, Data Science Tools and Ecosystem are summarized."
   ]
  },
  {
   "cell_type": "markdown",
   "id": "ab338766-94fa-474a-9244-4268f11503be",
   "metadata": {},
   "source": [
    "**Objectives:**\n",
    "- popular languages that Data Scientists\n",
    "- commonly used libraries used by Data Scientists\n",
    "- arithmetic expressions in Python\n",
    "- Data science tools"
   ]
  },
  {
   "cell_type": "markdown",
   "id": "75966dee-a985-4427-abe9-7de1eab3c3ce",
   "metadata": {},
   "source": [
    "Some of the popular languages that Data Scientists use are:\n",
    "1. Python\n",
    "2. R Language\n",
    "3. SQL\n",
    "    "
   ]
  },
  {
   "cell_type": "markdown",
   "id": "938927d4-0668-4f7c-a0d2-f5ae1df90d35",
   "metadata": {},
   "source": [
    "Some of the commonly used libraries used by Data Scientists include:\n",
    "- Pandas \n",
    "- NumPy\n",
    "- SciPy\n",
    "- Matplotlib\n",
    "- TensorFlow\n",
    "- PyTorch \n",
    "- Keras \n",
    "- Scikit-learn"
   ]
  },
  {
   "cell_type": "markdown",
   "id": "dd60b184-4755-4e2f-8bc3-5bf40e743717",
   "metadata": {},
   "source": [
    "| Data Science Tools |\n",
    "|------|\n",
    "| Jupyter |\n",
    "| Apache Zeppelin |\n",
    "| RStudio |\n",
    "    "
   ]
  },
  {
   "cell_type": "markdown",
   "id": "1cb2bafc-be53-43a1-9728-ba0a4c1e948b",
   "metadata": {},
   "source": [
    "### Below are a few examples of evaluating arithmetic expressions in Python"
   ]
  },
  {
   "cell_type": "code",
   "execution_count": 8,
   "id": "e7090e6a-0200-4ca1-a920-3486dab05043",
   "metadata": {},
   "outputs": [
    {
     "data": {
      "text/plain": [
       "17"
      ]
     },
     "execution_count": 8,
     "metadata": {},
     "output_type": "execute_result"
    }
   ],
   "source": [
    "#This a simple arithmetic expression to mutiply then add integers\n",
    "\n",
    "(3*4)+5\n"
   ]
  },
  {
   "cell_type": "code",
   "execution_count": 9,
   "id": "79f13d89-a8f2-4c96-b5ed-e65b534c5303",
   "metadata": {},
   "outputs": [
    {
     "data": {
      "text/plain": [
       "3.3333333333333335"
      ]
     },
     "execution_count": 9,
     "metadata": {},
     "output_type": "execute_result"
    }
   ],
   "source": [
    "#This will convert 200 minutes to hours by diving by 60\n",
    "\n",
    "200/60"
   ]
  },
  {
   "cell_type": "markdown",
   "id": "62b95fed-6c97-492b-88ea-53641ee739c8",
   "metadata": {},
   "source": [
    "## Author\n",
    "\n",
    "Hussain Khan"
   ]
  },
  {
   "cell_type": "code",
   "execution_count": null,
   "id": "177eea4b-4c5e-4a68-b51f-785ceda39338",
   "metadata": {},
   "outputs": [],
   "source": []
  }
 ],
 "metadata": {
  "kernelspec": {
   "display_name": "Python",
   "language": "python",
   "name": "conda-env-python-py"
  },
  "language_info": {
   "codemirror_mode": {
    "name": "ipython",
    "version": 3
   },
   "file_extension": ".py",
   "mimetype": "text/x-python",
   "name": "python",
   "nbconvert_exporter": "python",
   "pygments_lexer": "ipython3",
   "version": "3.7.12"
  }
 },
 "nbformat": 4,
 "nbformat_minor": 5
}
